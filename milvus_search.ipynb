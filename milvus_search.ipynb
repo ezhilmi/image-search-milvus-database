{
 "cells": [
  {
   "cell_type": "code",
   "execution_count": 5,
   "metadata": {},
   "outputs": [],
   "source": [
    "from pymilvus import MilvusClient, FieldSchema, CollectionSchema, DataType\n",
    "import glob, os\n",
    "from tqdm import tqdm\n",
    "import torch\n",
    "from PIL import Image\n",
    "\n",
    "from transformers import AutoProcessor, CLIPModel, CLIPProcessor\n",
    "from sentence_transformers import SentenceTransformer"
   ]
  },
  {
   "cell_type": "code",
   "execution_count": null,
   "metadata": {},
   "outputs": [],
   "source": [
    "COLLECTION_NAME = 'ayam_collection'  # Collection name\n",
    "DIMENSION = 512  # Embedding vector size in this example\n",
    "MILVUS_HOST = \"localhost\"\n",
    "MILVUS_PORT = \"19530\"\n",
    "\n",
    "BATCH_SIZE = 128\n",
    "TOP_K = 3\n",
    "\n",
    "MODEL_NAME = 'clip-ViT-B-32' #Using CLIP model\n",
    "\n",
    "client = MilvusClient(\"demo.db\")\n",
    "model = SentenceTransformer(MODEL_NAME)\n",
    "\n",
    "data_dir = \"../../can_food\""
   ]
  },
  {
   "cell_type": "code",
   "execution_count": null,
   "metadata": {},
   "outputs": [],
   "source": [
    "# Creating schema\n",
    "fields = [\n",
    "    FieldSchema(name='id', dtype=DataType.INT64, is_primary=True, auto_id=False),\n",
    "    FieldSchema(name='category', dtype=DataType.VARCHAR, max_length=200),  # VARCHARS need a maximum length, so for this example they are set to 200 characters\n",
    "    FieldSchema(name='image_embedding', dtype=DataType.FLOAT_VECTOR, dim=int(DIMENSION))\n",
    "]\n",
    "schema = CollectionSchema(fields=fields)\n",
    "\n",
    "index_params = client.prepare_index_params()\n",
    "\n",
    "index_params.add_index(\n",
    "    field_name=\"image_embedding\",\n",
    "    index_name=\"image_embedding_index\",\n",
    "    index_type=\"IVF_FLAT\",\n",
    "    metric_type=\"COSINE\",\n",
    "    params= {\"nlist\": 1000}, # Can be adjust depends on the total list of datas\n",
    ")\n",
    "\n",
    "# Create the collection based on schema and index params, include the dimension\n",
    "\n",
    "# client.create_collection(COLLECTION_NAME, schema=schema, index_params=index_params, dimension=DIMENSION)"
   ]
  },
  {
   "cell_type": "code",
   "execution_count": null,
   "metadata": {},
   "outputs": [],
   "source": [
    "# Deleting the collection\n",
    "# client.drop_collection(COLLECTION_NAME)"
   ]
  },
  {
   "cell_type": "code",
   "execution_count": 13,
   "metadata": {},
   "outputs": [
    {
     "name": "stdout",
     "output_type": "stream",
     "text": [
      "{'collection_name': 'ayam_collection', 'auto_id': False, 'num_shards': 0, 'description': '', 'fields': [{'field_id': 100, 'name': 'id', 'description': '', 'type': <DataType.INT64: 5>, 'params': {}, 'is_primary': True}, {'field_id': 101, 'name': 'category', 'description': '', 'type': <DataType.VARCHAR: 21>, 'params': {'max_length': 200}}, {'field_id': 102, 'name': 'image_embedding', 'description': '', 'type': <DataType.FLOAT_VECTOR: 101>, 'params': {'dim': 512}}], 'functions': [], 'aliases': [], 'collection_id': 0, 'consistency_level': 0, 'properties': {}, 'num_partitions': 0, 'enable_dynamic_field': False}\n"
     ]
    }
   ],
   "source": [
    "print(client.describe_collection(COLLECTION_NAME))\n",
    "# print(client.list_collections())"
   ]
  },
  {
   "cell_type": "code",
   "execution_count": 14,
   "metadata": {},
   "outputs": [
    {
     "name": "stderr",
     "output_type": "stream",
     "text": [
      "Generating embedding ..: 100%|████████████████████████████████████████████████████████████████████████████████████████████████| 21/21 [00:02<00:00,  7.40it/s]\n"
     ]
    },
    {
     "name": "stdout",
     "output_type": "stream",
     "text": [
      "Total number of images inserted : 21 \n"
     ]
    }
   ],
   "source": [
    "# Load images from directory and generate embedding\n",
    "image_paths = glob.glob(os.path.join(data_dir, \"**/*.jpg\"))\n",
    "data = []\n",
    "\n",
    "for i, filepath in enumerate(tqdm(image_paths, desc= \"Generating embedding ..\")):\n",
    "  try:\n",
    "    image = Image.open(filepath)\n",
    "    category = os.path.basename(os.path.dirname(filepath))\n",
    "    image_embedding = model.encode(image)\n",
    "    # Assign the ids\n",
    "    image_id = i\n",
    "    data.append({\"id\" : image_id, \"image_embedding\" : image_embedding, \"category\" : category})\n",
    "  except Exception as e:\n",
    "    print(f\"Skipping file: {filepath} due to an error occurs during an embedding process: \\n{e}\" )\n",
    "    continue\n",
    "\n",
    "# Inserting data into milvus\n",
    "mr = client.insert(collection_name= COLLECTION_NAME, data=data)\n",
    "\n",
    "print(f\"Total number of images inserted : {mr['insert_count']} \")"
   ]
  },
  {
   "cell_type": "code",
   "execution_count": 16,
   "metadata": {},
   "outputs": [
    {
     "name": "stdout",
     "output_type": "stream",
     "text": [
      "[{'id': 13, 'distance': 0.8256827592849731, 'entity': {'category': 'sardines'}}, {'id': 14, 'distance': 0.8064610362052917, 'entity': {'category': 'sardines'}}]\n"
     ]
    }
   ],
   "source": [
    "# Image Query\n",
    "query_image = \"./test.jpg\"\n",
    "query_image_read = Image.open(query_image)\n",
    "\n",
    "\n",
    "results = client.search(     collection_name=COLLECTION_NAME,\n",
    "                             data=[model.encode(query_image_read)],\n",
    "                             output_fields=[\"category\"],\n",
    "                             search_params={\"metric_type\": \"COSINE\"},\n",
    "                             limit=2\n",
    "                             )\n",
    "\n",
    "search_results = results[0]\n",
    "print(search_results)\n",
    "     \n"
   ]
  },
  {
   "cell_type": "code",
   "execution_count": 17,
   "metadata": {},
   "outputs": [
    {
     "name": "stdout",
     "output_type": "stream",
     "text": [
      "[{'id': 3, 'distance': 0.32279837131500244, 'entity': {'category': 'mackerel'}}, {'id': 2, 'distance': 0.3210201561450958, 'entity': {'category': 'mackerel'}}]\n"
     ]
    }
   ],
   "source": [
    "# Text Query\n",
    "query_text = \"mackerel in tin\"\n",
    "\n",
    "vector_embedding = model.encode([query_text], convert_to_numpy=True, show_progress_bar=False)\n",
    "\n",
    "results = client.search(     collection_name=COLLECTION_NAME,\n",
    "                             data=vector_embedding,\n",
    "                             output_fields=[\"category\"],\n",
    "                             search_params={\"metric_type\": \"COSINE\"},\n",
    "                             limit=2\n",
    "                             )\n",
    "\n",
    "print(results[0])\n",
    "\n"
   ]
  }
 ],
 "metadata": {
  "kernelspec": {
   "display_name": "Python 3 (ipykernel)",
   "language": "python",
   "name": "python3"
  },
  "language_info": {
   "codemirror_mode": {
    "name": "ipython",
    "version": 3
   },
   "file_extension": ".py",
   "mimetype": "text/x-python",
   "name": "python",
   "nbconvert_exporter": "python",
   "pygments_lexer": "ipython3",
   "version": "3.10.12"
  }
 },
 "nbformat": 4,
 "nbformat_minor": 4
}
